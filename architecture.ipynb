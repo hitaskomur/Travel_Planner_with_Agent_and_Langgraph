{
 "cells": [
  {
   "cell_type": "code",
   "execution_count": 14,
   "id": "cd9ac685-2b1f-49dc-a9c7-6d581dd3d4b2",
   "metadata": {},
   "outputs": [],
   "source": [
    "import os\n",
    "from langgraph.graph import StateGraph , START, END\n",
    "from typing import TypedDict , Dict, List, Annotated\n",
    "from langchain_core.messages import HumanMessage, AIMessage\n",
    "from langchain_core.prompts import ChatPromptTemplate\n",
    "from langchain_groq import ChatGroq\n",
    "from IPython.display import display,Image\n",
    "\n",
    "os.environ[\"GROQ_API_KEY\"] = \"your_api_key\"\n",
    "model=\"meta-llama/llama-4-scout-17b-16e-instruct\""
   ]
  },
  {
   "cell_type": "code",
   "execution_count": 15,
   "id": "4aa23003-64c1-43a2-b67e-4eb429373df4",
   "metadata": {},
   "outputs": [],
   "source": [
    "llm = ChatGroq(model=model)"
   ]
  },
  {
   "cell_type": "code",
   "execution_count": 16,
   "id": "c220b5f5-1465-49d8-9e60-def852748e16",
   "metadata": {},
   "outputs": [],
   "source": [
    "class PlannerState(TypedDict):\n",
    "    messages : Annotated[List[HumanMessage | AIMessage],\"The messages in the conversation.\"]\n",
    "    city:str\n",
    "    interests:str\n",
    "    itinerary:str"
   ]
  },
  {
   "cell_type": "code",
   "execution_count": 17,
   "id": "34d6a971-2344-44a9-8422-764506b303d6",
   "metadata": {},
   "outputs": [],
   "source": [
    "itinerary_prompt = ChatPromptTemplate.from_messages([\n",
    "    (\"system\", \"You are a helpful travel assistant. Create a day trip itinerary for {city} based on the user's interests: {interests}. Provide a brief, bulleted itinerary.\"),\n",
    "    (\"human\" , \"Create an itinerary for my day trip.\")\n",
    "])\n",
    "chain = itinerary_prompt |llm"
   ]
  },
  {
   "cell_type": "code",
   "execution_count": 28,
   "id": "1c5060e2-7f47-4b51-b7d7-7e49ae9e3260",
   "metadata": {},
   "outputs": [],
   "source": [
    "def input_city(state:PlannerState)->PlannerState:\n",
    "    print(\"Please enter the city you want to visit for your day trip: \")\n",
    "    user_message = input(\"Your input:\")\n",
    "    return{\n",
    "        **state,\n",
    "        \"city\":user_message,\n",
    "        \"messages\" : state[\"messages\"]+[HumanMessage(content=user_message)],\n",
    "    }\n",
    "\n",
    "def input_interesets(state : PlannerState)->PlannerState:\n",
    "    print(f\"Please enter your interests for the trip to {state['city']} (comma-separated):\")\n",
    "    user_message = input(\"Your input: \")\n",
    "    return{\n",
    "        **state,\n",
    "        \"interests\": [interest.strip() for interest in user_message.split(\",\")],\n",
    "        \"messages\" : state[\"messages\"] +[HumanMessage(content=user_message)],\n",
    "    }\n",
    "\n",
    "def create_itinerary(state:PlannerState)->PlannerState:\n",
    "    print(f\"Creating an itinerary for {state['city']} based on interests: {', '.join(state['interests'])}...\")\n",
    "    response = chain.invoke({\"city\":state[\"city\"],\"interests\" : \", \".join(state[\"interests\"])}).content\n",
    "    print(\"\\nFinal Itınerary: \")\n",
    "    print(response)\n",
    "    return{\n",
    "        **state,\n",
    "        \"messages\":state[\"messages\"]+[AIMessage(content=response)],\n",
    "        \"itinerary\" : response,\n",
    "    }"
   ]
  },
  {
   "cell_type": "code",
   "execution_count": 29,
   "id": "95cbc2ac-ed95-458a-a231-9bf31a8c2851",
   "metadata": {},
   "outputs": [],
   "source": [
    "workflow = StateGraph(PlannerState)\n",
    "\n",
    "workflow.add_node(\"input_city\",input_city)\n",
    "workflow.add_node(\"input_interests\",input_interesets)\n",
    "workflow.add_node(\"create_itinerary\",create_itinerary)\n",
    "\n",
    "workflow.add_edge(START,\"input_city\")\n",
    "workflow.add_edge(\"input_city\",\"input_interests\")\n",
    "workflow.add_edge(\"input_interests\",\"create_itinerary\")\n",
    "workflow.add_edge(\"create_itinerary\",END)\n",
    "\n",
    "app = workflow.compile()"
   ]
  },
  {
   "cell_type": "code",
   "execution_count": 30,
   "id": "d2119fdb-d034-4620-aa63-bd0bc0662bb2",
   "metadata": {},
   "outputs": [
    {
     "data": {
      "image/png": "[encoded data removed]",
      "text/plain": [
       "<IPython.core.display.Image object>"
      ]
     },
     "metadata": {},
     "output_type": "display_data"
    }
   ],
   "source": [
    "display(\n",
    "    Image(\n",
    "        app.get_graph().draw_mermaid_png()\n",
    "    )\n",
    ")"
   ]
  },
  {
   "cell_type": "code",
   "execution_count": 31,
   "id": "b7b5eaea-c0de-4a99-92fb-e018bfd4fbd5",
   "metadata": {},
   "outputs": [],
   "source": [
    "def run_travel_planner(user_request:str):\n",
    "    print(f\"Initial Requests: {user_request}\\n\")\n",
    "    state={\n",
    "        \"messages\" : [HumanMessage(content=user_request)],\n",
    "        \"city\":\"\",\n",
    "        \"interests\":[],\n",
    "        \"itinerary\":\"\",\n",
    "    }\n",
    "    for output in app.stream(state):\n",
    "        pass"
   ]
  },
  {
   "cell_type": "code",
   "execution_count": 32,
   "id": "e42d30d2-0fee-40df-9c57-5baded8603e3",
   "metadata": {},
   "outputs": [
    {
     "name": "stdout",
     "output_type": "stream",
     "text": [
      "Initial Requests: I want to plan a day trip.\n",
      "\n",
      "Please enter the city you want to visit for your day trip: \n"
     ]
    },
    {
     "name": "stdin",
     "output_type": "stream",
     "text": [
      "Your input: from ankara to gaziantep\n"
     ]
    },
    {
     "name": "stdout",
     "output_type": "stream",
     "text": [
      "Please enter your interests for the trip to from ankara to gaziantep (comma-separated):\n"
     ]
    },
    {
     "name": "stdin",
     "output_type": "stream",
     "text": [
      "Your input:  eating, swimming, cultural places\n"
     ]
    },
    {
     "name": "stdout",
     "output_type": "stream",
     "text": [
      "Creating an itinerary for from ankara to gaziantep based on interests: eating, swimming, cultural places...\n",
      "\n",
      "Final Itınerary: \n",
      "Here's a suggested day trip itinerary from Ankara to Gaziantep based on your interests:\n",
      "\n",
      "* **8:00 AM - Departure from Ankara**: Take an early morning bus or drive to Gaziantep (approximately 6-7 hours).\n",
      "* **2:00 PM - Lunch**: Head to the city center and try some of Gaziantep's famous kebabs and baklava at a local restaurant, such as:\n",
      "\t+ Kebapçı İmam: Known for their delicious kebabs.\n",
      "\t+ Baklava Sarayı: Try their traditional Gaziantep-style baklava.\n",
      "* **3:30 PM - Gaziantep Zoo and Atatürk Park**: Visit the Gaziantep Zoo, which is home to over 1,000 animals from around the world. Afterward, take a stroll through the adjacent Atatürk Park, a beautiful green oasis in the city.\n",
      "* **5:30 PM - Swimming**: Head to the Gaziantep Aquapark, a modern water park with various pools, water slides, and a wave pool.\n",
      "* **8:00 PM - Dinner**: Try some more local cuisine, such as:\n",
      "\t+ Mimar Sinan Caddesi: A lively street lined with restaurants serving traditional Gaziantep dishes.\n",
      "* **9:30 PM - Cultural Experience (Optional)**: If you have time and energy, visit the Gaziantep Museum of Archaeology or the Zincirli Bedesten, a historic covered bazaar.\n",
      "\n",
      "However, if you are interested in visiting cultural places within the city as well, consider replacing the swimming activity with a visit to:\n",
      "\n",
      "* **5:30 PM - Gaziantep City Walls and Historic Sites**: Explore the historic city walls, which date back to the Roman era, and visit the nearby Gaziantep Mevlevi House Museum or the Kurtuluş Mosque.\n",
      "\n",
      "Keep in mind that this itinerary is just a suggestion, and you may want to adjust it based on your personal preferences and schedule. Enjoy your day trip to Gaziantep!\n"
     ]
    }
   ],
   "source": [
    "user_request = \"I want to plan a day trip.\"\n",
    "run_travel_planner(user_request)"
   ]
  },
  {
   "cell_type": "code",
   "execution_count": null,
   "id": "cdc9b856-1281-4b6a-b1dd-49c4db32d151",
   "metadata": {},
   "outputs": [],
   "source": []
  }
 ],
 "metadata": {
  "kernelspec": {
   "display_name": "Python 3 (ipykernel)",
   "language": "python",
   "name": "python3"
  },
  "language_info": {
   "codemirror_mode": {
    "name": "ipython",
    "version": 3
   },
   "file_extension": ".py",
   "mimetype": "text/x-python",
   "name": "python",
   "nbconvert_exporter": "python",
   "pygments_lexer": "ipython3",
   "version": "3.12.11"
  }
 },
 "nbformat": 4,
 "nbformat_minor": 5
}
